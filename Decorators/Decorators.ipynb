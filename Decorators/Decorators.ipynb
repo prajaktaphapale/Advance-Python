{
 "cells": [
  {
   "cell_type": "markdown",
   "metadata": {},
   "source": [
    "## Keyword arguments in Python"
   ]
  },
  {
   "cell_type": "markdown",
   "metadata": {},
   "source": [
    "1. **kwargs\n",
    "2. kwargs acts like a dictionary"
   ]
  },
  {
   "cell_type": "code",
   "execution_count": 1,
   "metadata": {},
   "outputs": [
    {
     "data": {
      "text/plain": [
       "dict"
      ]
     },
     "execution_count": 1,
     "metadata": {},
     "output_type": "execute_result"
    }
   ],
   "source": [
    "d = {\n",
    "    \"name\" : \"Utkarsh\",\n",
    "    \"age\" : 28,\n",
    "    \"married\" : True\n",
    "}\n",
    "type(d)"
   ]
  },
  {
   "cell_type": "code",
   "execution_count": 2,
   "metadata": {},
   "outputs": [
    {
     "data": {
      "text/plain": [
       "{'name': 'Utkarsh', 'age': 28, 'married': True}"
      ]
     },
     "execution_count": 2,
     "metadata": {},
     "output_type": "execute_result"
    }
   ],
   "source": [
    "d"
   ]
  },
  {
   "cell_type": "code",
   "execution_count": 3,
   "metadata": {},
   "outputs": [
    {
     "data": {
      "text/plain": [
       "dict_keys(['name', 'age', 'married'])"
      ]
     },
     "execution_count": 3,
     "metadata": {},
     "output_type": "execute_result"
    }
   ],
   "source": [
    "d.keys()"
   ]
  },
  {
   "cell_type": "code",
   "execution_count": 4,
   "metadata": {},
   "outputs": [
    {
     "data": {
      "text/plain": [
       "dict_items([('name', 'Utkarsh'), ('age', 28), ('married', True)])"
      ]
     },
     "execution_count": 4,
     "metadata": {},
     "output_type": "execute_result"
    }
   ],
   "source": [
    "d.items()\n",
    "\n"
   ]
  },
  {
   "cell_type": "code",
   "execution_count": 5,
   "metadata": {},
   "outputs": [],
   "source": [
    "def function(**kwargs):\n",
    "    print(kwargs)\n",
    "    print(type(kwargs))\n",
    "    for key, value in kwargs.items():\n",
    "        print(f\"{key} : {value}\")\n",
    "        "
   ]
  },
  {
   "cell_type": "code",
   "execution_count": 6,
   "metadata": {},
   "outputs": [
    {
     "name": "stdout",
     "output_type": "stream",
     "text": [
      "{'name': 'Sarthak', 'age': 24}\n",
      "<class 'dict'>\n",
      "name : Sarthak\n",
      "age : 24\n"
     ]
    }
   ],
   "source": [
    "function(name=\"Sarthak\", age=24)"
   ]
  },
  {
   "cell_type": "code",
   "execution_count": 7,
   "metadata": {},
   "outputs": [
    {
     "name": "stdout",
     "output_type": "stream",
     "text": [
      "{'Tea': 10, 'milk': 15}\n",
      "<class 'dict'>\n",
      "Tea : 10\n",
      "milk : 15\n"
     ]
    }
   ],
   "source": [
    "function(Tea=10, milk=15)"
   ]
  },
  {
   "cell_type": "code",
   "execution_count": 8,
   "metadata": {},
   "outputs": [
    {
     "data": {
      "text/plain": [
       "{'name': 'Utkarsh', 'age': 28, 'married': True}"
      ]
     },
     "execution_count": 8,
     "metadata": {},
     "output_type": "execute_result"
    }
   ],
   "source": [
    "d"
   ]
  },
  {
   "cell_type": "code",
   "execution_count": 9,
   "metadata": {},
   "outputs": [
    {
     "name": "stdout",
     "output_type": "stream",
     "text": [
      "{'name': 'Utkarsh', 'age': 28, 'married': True}\n",
      "<class 'dict'>\n",
      "name : Utkarsh\n",
      "age : 28\n",
      "married : True\n"
     ]
    }
   ],
   "source": [
    "function(**d)"
   ]
  },
  {
   "cell_type": "markdown",
   "metadata": {},
   "source": [
    "### Practical example for kwargs\n",
    "Perform billing for a restauraunt , provided the menu including taxes"
   ]
  },
  {
   "cell_type": "code",
   "execution_count": 10,
   "metadata": {},
   "outputs": [],
   "source": [
    "menu = {\n",
    "    \"burger\":150,\n",
    "    \"pizza\" : 270,\n",
    "    \"sandwich\" : 100,\n",
    "    \"pasta\" : 250,\n",
    "    \"coffee\" : 50\n",
    "}"
   ]
  },
  {
   "cell_type": "code",
   "execution_count": 11,
   "metadata": {},
   "outputs": [
    {
     "data": {
      "text/plain": [
       "250"
      ]
     },
     "execution_count": 11,
     "metadata": {},
     "output_type": "execute_result"
    }
   ],
   "source": [
    "menu.get(\"pasta\")"
   ]
  },
  {
   "cell_type": "code",
   "execution_count": 12,
   "metadata": {},
   "outputs": [],
   "source": [
    "a=  menu.get(\"samosa\")"
   ]
  },
  {
   "cell_type": "code",
   "execution_count": 13,
   "metadata": {},
   "outputs": [
    {
     "name": "stdout",
     "output_type": "stream",
     "text": [
      "None\n"
     ]
    }
   ],
   "source": [
    "print(a)"
   ]
  },
  {
   "cell_type": "code",
   "execution_count": 20,
   "metadata": {},
   "outputs": [],
   "source": [
    "def hotel_bill(**kwargs):\n",
    "    bill = 0\n",
    "    for food, qty in kwargs.items():\n",
    "        price = menu.get(food)\n",
    "        if price is not None:\n",
    "            amt = price*qty\n",
    "            bill = bill + amt\n",
    "            print(f\"Food Item : {food}, price : {price:.2f} INR Qty : {qty}, Subtotal : {amt:.2f} INR\")\n",
    "    print(f\"Total billing amount is : {bill:.2f} INR\")\n",
    "    return bill"
   ]
  },
  {
   "cell_type": "markdown",
   "metadata": {},
   "source": []
  },
  {
   "cell_type": "code",
   "execution_count": 21,
   "metadata": {},
   "outputs": [
    {
     "name": "stdout",
     "output_type": "stream",
     "text": [
      "Food Item : burger, price : 150.00 INR Qty : 2, Subtotal : 300.00 INR\n",
      "Food Item : coffee, price : 50.00 INR Qty : 1, Subtotal : 50.00 INR\n",
      "Total billing amount is : 350.00 INR\n"
     ]
    }
   ],
   "source": [
    "b1= hotel_bill(burger=2, coffee=1)"
   ]
  },
  {
   "cell_type": "code",
   "execution_count": 22,
   "metadata": {},
   "outputs": [
    {
     "name": "stdout",
     "output_type": "stream",
     "text": [
      "Food Item : pizza, price : 270.00 INR Qty : 3, Subtotal : 810.00 INR\n",
      "Food Item : sandwich, price : 100.00 INR Qty : 4, Subtotal : 400.00 INR\n",
      "Total billing amount is : 1210.00 INR\n"
     ]
    }
   ],
   "source": [
    "b2= hotel_bill(pizza=3, sandwich=4)"
   ]
  },
  {
   "cell_type": "code",
   "execution_count": 23,
   "metadata": {},
   "outputs": [
    {
     "data": {
      "text/plain": [
       "1210"
      ]
     },
     "execution_count": 23,
     "metadata": {},
     "output_type": "execute_result"
    }
   ],
   "source": [
    "b2"
   ]
  },
  {
   "cell_type": "code",
   "execution_count": 24,
   "metadata": {},
   "outputs": [
    {
     "data": {
      "text/plain": [
       "1210"
      ]
     },
     "execution_count": 24,
     "metadata": {},
     "output_type": "execute_result"
    }
   ],
   "source": [
    "b2"
   ]
  },
  {
   "cell_type": "markdown",
   "metadata": {},
   "source": [
    "### Decorators\n",
    "1. Any functions is input to a decorator\n",
    "2. Output is a function - wrapper\n",
    "3. Purpose of decorator is to modify a function\n"
   ]
  },
  {
   "attachments": {
    "image.png": {
     "image/png": "[encoded data removed]"
    }
   },
   "cell_type": "markdown",
   "metadata": {},
   "source": [
    "![image.png](attachment:image.png)"
   ]
  },
  {
   "cell_type": "code",
   "execution_count": 1,
   "metadata": {},
   "outputs": [],
   "source": [
    "def welcome(func):\n",
    "    def wrapper(*args, **kwargs):\n",
    "        print(\"Welcome user\")\n",
    "        result = func(*args, **kwargs)\n",
    "        print(f\"Result is : {result}\")\n",
    "        print(\"Thank You\")\n",
    "        return result\n",
    "    return wrapper\n"
   ]
  },
  {
   "cell_type": "markdown",
   "metadata": {},
   "source": []
  },
  {
   "cell_type": "code",
   "execution_count": 2,
   "metadata": {},
   "outputs": [],
   "source": [
    "@welcome\n",
    "def simple_interest(P, N, R):\n",
    "    I = (P*N*R)/100\n",
    "    return I\n",
    "    "
   ]
  },
  {
   "cell_type": "markdown",
   "metadata": {},
   "source": []
  },
  {
   "cell_type": "code",
   "execution_count": 3,
   "metadata": {},
   "outputs": [
    {
     "name": "stdout",
     "output_type": "stream",
     "text": [
      "Welcome user\n",
      "Result is : 1950.0\n",
      "Thank You\n"
     ]
    }
   ],
   "source": [
    "I1 = simple_interest(10000, 3, 6.5)"
   ]
  },
  {
   "cell_type": "markdown",
   "metadata": {},
   "source": [
    "### Authenticate a user"
   ]
  },
  {
   "cell_type": "code",
   "execution_count": 5,
   "metadata": {},
   "outputs": [
    {
     "data": {
      "text/plain": [
       "'More@456'"
      ]
     },
     "execution_count": 5,
     "metadata": {},
     "output_type": "execute_result"
    }
   ],
   "source": [
    "users = {\"sarthak1\" : \"Example@123\", \"aditim3\" : \"More@456\"}\n",
    "users.get(\"aditim3\")"
   ]
  },
  {
   "cell_type": "code",
   "execution_count": 11,
   "metadata": {},
   "outputs": [],
   "source": [
    "def aunthenticate(func):\n",
    "    def wrapper (username, password, *args, **kwargs):\n",
    "        if username in users.keys() and password == users.get(username):\n",
    "            print(f\"Login Succesfull, Welcome : {username}\")\n",
    "            result= func(username, password, *args, **kwargs)\n",
    "            print(f\"Result : {result}\")\n",
    "            print(\"Thank you for using this function\")\n",
    "            return result\n",
    "        else:\n",
    "            print(\"Login Unsuccessfull, Username, password not found\")\n",
    "    return wrapper\n",
    "\n",
    "\n"
   ]
  },
  {
   "cell_type": "code",
   "execution_count": 12,
   "metadata": {},
   "outputs": [],
   "source": [
    "@aunthenticate\n",
    "def compound_interest(username, password, P, N, R):\n",
    "    A = P * (1 + R / 100) ** N\n",
    "    I = A - P\n",
    "    return I"
   ]
  },
  {
   "cell_type": "code",
   "execution_count": 13,
   "metadata": {},
   "outputs": [
    {
     "name": "stdout",
     "output_type": "stream",
     "text": [
      "Login Unsuccessfull, Username, password not found\n"
     ]
    }
   ],
   "source": [
    "compound_interest(username=\"sarthaks1\", password=\"Example@123\", P=50000, N=4, R=7.1)"
   ]
  },
  {
   "cell_type": "code",
   "execution_count": 15,
   "metadata": {},
   "outputs": [
    {
     "name": "stdout",
     "output_type": "stream",
     "text": [
      "Login Succesfull, Welcome : sarthak1\n",
      "Result : 15785.152784049977\n",
      "Thank you for using this function\n"
     ]
    },
    {
     "data": {
      "text/plain": [
       "15785.152784049977"
      ]
     },
     "execution_count": 15,
     "metadata": {},
     "output_type": "execute_result"
    }
   ],
   "source": [
    "compound_interest(username=\"sarthak1\", password=\"Example@123\", P=50000, N=4, R=7.1)"
   ]
  },
  {
   "cell_type": "code",
   "execution_count": null,
   "metadata": {},
   "outputs": [],
   "source": []
  }
 ],
 "metadata": {
  "kernelspec": {
   "display_name": "venv",
   "language": "python",
   "name": "python3"
  },
  "language_info": {
   "codemirror_mode": {
    "name": "ipython",
    "version": 3
   },
   "file_extension": ".py",
   "mimetype": "text/x-python",
   "name": "python",
   "nbconvert_exporter": "python",
   "pygments_lexer": "ipython3",
   "version": "3.12.5"
  }
 },
 "nbformat": 4,
 "nbformat_minor": 2
}
